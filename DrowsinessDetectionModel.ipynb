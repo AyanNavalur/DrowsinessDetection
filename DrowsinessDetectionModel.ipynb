{
 "cells": [
  {
   "cell_type": "code",
   "execution_count": 1,
   "id": "bb51af90",
   "metadata": {},
   "outputs": [],
   "source": [
    "import os\n",
    "from keras.preprocessing import image\n",
    "import matplotlib.pyplot as plt \n",
    "import numpy as np\n",
    "import tensorflow as tf"
   ]
  },
  {
   "cell_type": "code",
   "execution_count": 2,
   "id": "fe7f92ce",
   "metadata": {},
   "outputs": [],
   "source": [
    "from keras.models import Sequential\n",
    "from keras.layers import Dropout,Conv2D,Flatten,Dense, MaxPooling2D, BatchNormalization\n",
    "from keras.models import load_model"
   ]
  },
  {
   "cell_type": "code",
   "execution_count": 3,
   "id": "b882f29c",
   "metadata": {},
   "outputs": [],
   "source": [
    "def generator(dir, gen=image.ImageDataGenerator(rescale=1./255), shuffle=True,batch_size=1,target_size=(24,24),class_mode='categorical' ):\n",
    "    return gen.flow_from_directory(dir,batch_size=batch_size,shuffle=shuffle,color_mode='grayscale',class_mode=class_mode,target_size=target_size)"
   ]
  },
  {
   "cell_type": "code",
   "execution_count": 25,
   "id": "b427b1dd",
   "metadata": {},
   "outputs": [
    {
     "name": "stdout",
     "output_type": "stream",
     "text": [
      "Found 1234 images belonging to 2 classes.\n",
      "Found 218 images belonging to 2 classes.\n",
      "Found 1540 images belonging to 2 classes.\n",
      "Found 511 images belonging to 2 classes.\n"
     ]
    }
   ],
   "source": [
    "BATCH_SIZE=32\n",
    "TARGET_SIZE=(24,24)\n",
    "eyes_train_batch= generator('./dataset/eyes/train',shuffle=True, batch_size=BATCH_SIZE,target_size=TARGET_SIZE)\n",
    "eyes_valid_batch= generator('dataset/eyes/valid',shuffle=True, batch_size=BATCH_SIZE,target_size=TARGET_SIZE)\n",
    "yawn_train_batch= generator('./dataset/new_yawn/train',shuffle=True, batch_size=BATCH_SIZE,target_size=TARGET_SIZE)\n",
    "yawn_valid_batch= generator('dataset/new_yawn/valid',shuffle=True, batch_size=BATCH_SIZE,target_size=TARGET_SIZE)"
   ]
  },
  {
   "cell_type": "code",
   "execution_count": 18,
   "id": "57891d54",
   "metadata": {},
   "outputs": [
    {
     "name": "stdout",
     "output_type": "stream",
     "text": [
      "38 6\n",
      "48 15\n"
     ]
    }
   ],
   "source": [
    "eyes_SPE= len(eyes_train_batch.classes)//BATCH_SIZE\n",
    "eyes_VS = len(eyes_valid_batch.classes)//BATCH_SIZE\n",
    "print(eyes_SPE,eyes_VS)\n",
    "\n",
    "yawn_SPE= len(yawn_train_batch.classes)//BATCH_SIZE\n",
    "yawn_VS = len(yawn_valid_batch.classes)//BATCH_SIZE\n",
    "print(yawn_SPE,yawn_VS)"
   ]
  },
  {
   "cell_type": "code",
   "execution_count": 6,
   "id": "2c317693",
   "metadata": {},
   "outputs": [],
   "source": [
    "eyes_model = Sequential([\n",
    "    Conv2D(32, kernel_size=(3, 3), activation='relu', input_shape=(24,24,1)),\n",
    "    MaxPooling2D(pool_size=(1,1)),\n",
    "    Conv2D(32,(3,3),activation='relu'),\n",
    "    MaxPooling2D(pool_size=(1,1)),\n",
    "#32 convolution filters used each of size 3x3\n",
    "#again\n",
    "    Conv2D(64, (3, 3), activation='relu'),\n",
    "    MaxPooling2D(pool_size=(1,1)),\n",
    "#64 convolution filters used each of size 3x3\n",
    "#choose the best features via pooling\n",
    "    \n",
    "#randomly turn neurons on and off to improve convergence\n",
    "    Dropout(0.25),\n",
    "#flatten since too many dimensions, we only want a classification output\n",
    "    Flatten(),\n",
    "#fully connected to get all relevant data\n",
    "    Dense(128, activation='relu'),\n",
    "#one more dropout for convergence' sake :) \n",
    "    Dropout(0.5),\n",
    "#output a softmax to squash the matrix into output probabilities\n",
    "    Dense(2, activation='softmax')\n",
    "])"
   ]
  },
  {
   "cell_type": "code",
   "execution_count": 7,
   "id": "a271142c",
   "metadata": {},
   "outputs": [],
   "source": [
    "eyes_model.compile(optimizer='adam',loss='categorical_crossentropy',metrics=['accuracy'])"
   ]
  },
  {
   "cell_type": "code",
   "execution_count": 8,
   "id": "bd2a9d08",
   "metadata": {},
   "outputs": [],
   "source": [
    "callback = tf.keras.callbacks.EarlyStopping(monitor='loss', patience=3)"
   ]
  },
  {
   "cell_type": "code",
   "execution_count": 9,
   "id": "d6c2db93",
   "metadata": {},
   "outputs": [
    {
     "name": "stdout",
     "output_type": "stream",
     "text": [
      "Epoch 1/30\n",
      "38/38 [==============================] - 6s 155ms/step - loss: 0.3648 - accuracy: 0.8569 - val_loss: 0.1742 - val_accuracy: 0.9427\n",
      "Epoch 2/30\n",
      "38/38 [==============================] - 5s 122ms/step - loss: 0.1691 - accuracy: 0.9351 - val_loss: 0.1345 - val_accuracy: 0.9479\n",
      "Epoch 3/30\n",
      "38/38 [==============================] - 5s 123ms/step - loss: 0.1183 - accuracy: 0.9576 - val_loss: 0.1222 - val_accuracy: 0.9635\n",
      "Epoch 4/30\n",
      "38/38 [==============================] - 5s 123ms/step - loss: 0.1003 - accuracy: 0.9676 - val_loss: 0.1308 - val_accuracy: 0.9479\n",
      "Epoch 5/30\n",
      "38/38 [==============================] - 5s 123ms/step - loss: 0.0683 - accuracy: 0.9725 - val_loss: 0.1370 - val_accuracy: 0.9531\n",
      "Epoch 6/30\n",
      "38/38 [==============================] - 5s 126ms/step - loss: 0.0640 - accuracy: 0.9734 - val_loss: 0.1055 - val_accuracy: 0.9740\n",
      "Epoch 7/30\n",
      "38/38 [==============================] - 5s 122ms/step - loss: 0.0612 - accuracy: 0.9759 - val_loss: 0.1129 - val_accuracy: 0.9635\n",
      "Epoch 8/30\n",
      "38/38 [==============================] - 5s 123ms/step - loss: 0.0337 - accuracy: 0.9884 - val_loss: 0.0928 - val_accuracy: 0.9531\n",
      "Epoch 9/30\n",
      "38/38 [==============================] - 5s 118ms/step - loss: 0.0268 - accuracy: 0.9875 - val_loss: 0.0881 - val_accuracy: 0.9531\n",
      "Epoch 10/30\n",
      "38/38 [==============================] - 4s 115ms/step - loss: 0.0194 - accuracy: 0.9925 - val_loss: 0.1185 - val_accuracy: 0.9688\n",
      "Epoch 11/30\n",
      "38/38 [==============================] - 5s 121ms/step - loss: 0.0487 - accuracy: 0.9767 - val_loss: 0.1087 - val_accuracy: 0.9688\n",
      "Epoch 12/30\n",
      "38/38 [==============================] - 5s 122ms/step - loss: 0.0449 - accuracy: 0.9834 - val_loss: 0.0913 - val_accuracy: 0.9531\n",
      "Epoch 13/30\n",
      "38/38 [==============================] - 5s 120ms/step - loss: 0.0280 - accuracy: 0.9893 - val_loss: 0.0915 - val_accuracy: 0.9740\n"
     ]
    },
    {
     "data": {
      "text/plain": [
       "<keras.callbacks.History at 0x17fed99be20>"
      ]
     },
     "execution_count": 9,
     "metadata": {},
     "output_type": "execute_result"
    }
   ],
   "source": [
    "eyes_model.fit(eyes_train_batch, validation_data=eyes_valid_batch,epochs=30,steps_per_epoch=eyes_SPE ,validation_steps=eyes_VS, callbacks=[callback])"
   ]
  },
  {
   "cell_type": "code",
   "execution_count": 34,
   "id": "3c4c05d9",
   "metadata": {},
   "outputs": [],
   "source": [
    "eyes_model.save('models/cnnEyes.h5', overwrite=True)"
   ]
  },
  {
   "cell_type": "code",
   "execution_count": 12,
   "id": "4fb11f52",
   "metadata": {},
   "outputs": [],
   "source": [
    "img = cv2.imread('./dataset/eyes/valid/open/_359.jpg')\n",
    "resized = cv2.resize(img/255, (24, 24))"
   ]
  },
  {
   "cell_type": "code",
   "execution_count": 15,
   "id": "9b8a0b0a",
   "metadata": {},
   "outputs": [],
   "source": [
    "\n",
    "rpred = np.argmax(eyes_model.predict(resized.reshape(-1,24, 24, 1)), axis=-1)"
   ]
  },
  {
   "cell_type": "code",
   "execution_count": 16,
   "id": "5fba14ef",
   "metadata": {},
   "outputs": [
    {
     "data": {
      "text/plain": [
       "array([0, 1, 1], dtype=int64)"
      ]
     },
     "execution_count": 16,
     "metadata": {},
     "output_type": "execute_result"
    }
   ],
   "source": [
    "rpred"
   ]
  },
  {
   "cell_type": "code",
   "execution_count": 19,
   "id": "19a6b65e",
   "metadata": {},
   "outputs": [],
   "source": [
    "yawn_model = Sequential([\n",
    "    Conv2D(32, kernel_size=(3, 3), activation='relu', input_shape=(24,24,1)),\n",
    "    MaxPooling2D(pool_size=(1,1)),\n",
    "    Conv2D(32,(3,3),activation='relu'),\n",
    "    MaxPooling2D(pool_size=(1,1)),\n",
    "#32 convolution filters used each of size 3x3\n",
    "#again\n",
    "    Conv2D(64, (3, 3), activation='relu'),\n",
    "    MaxPooling2D(pool_size=(1,1)),\n",
    "#64 convolution filters used each of size 3x3\n",
    "#choose the best features via pooling\n",
    "    \n",
    "#randomly turn neurons on and off to improve convergence\n",
    "    Dropout(0.25),\n",
    "#flatten since too many dimensions, we only want a classification output\n",
    "    Flatten(),\n",
    "#fully connected to get all relevant data\n",
    "    Dense(128, activation='relu'),\n",
    "#one more dropout for convergence' sake :) \n",
    "    Dropout(0.5),\n",
    "#output a softmax to squash the matrix into output probabilities\n",
    "    Dense(2, activation='softmax')\n",
    "])"
   ]
  },
  {
   "cell_type": "code",
   "execution_count": 20,
   "id": "d56e1c01",
   "metadata": {},
   "outputs": [],
   "source": [
    "yawn_model.compile(optimizer='adam',loss='categorical_crossentropy',metrics=['accuracy'])"
   ]
  },
  {
   "cell_type": "code",
   "execution_count": 21,
   "id": "cf71dac0",
   "metadata": {},
   "outputs": [
    {
     "name": "stdout",
     "output_type": "stream",
     "text": [
      "Epoch 1/30\n",
      "48/48 [==============================] - 12s 242ms/step - loss: 0.3040 - accuracy: 0.8674 - val_loss: 0.0329 - val_accuracy: 0.9875\n",
      "Epoch 2/30\n",
      "48/48 [==============================] - 4s 74ms/step - loss: 0.0116 - accuracy: 0.9960 - val_loss: 0.0169 - val_accuracy: 0.9896\n",
      "Epoch 3/30\n",
      "48/48 [==============================] - 4s 73ms/step - loss: 0.0029 - accuracy: 1.0000 - val_loss: 0.0235 - val_accuracy: 0.9875\n",
      "Epoch 4/30\n",
      "48/48 [==============================] - 3s 71ms/step - loss: 0.0015 - accuracy: 1.0000 - val_loss: 0.0155 - val_accuracy: 0.9979\n",
      "Epoch 5/30\n",
      "48/48 [==============================] - 3s 70ms/step - loss: 0.0084 - accuracy: 0.9980 - val_loss: 0.0144 - val_accuracy: 0.9917\n",
      "Epoch 6/30\n",
      "48/48 [==============================] - 3s 71ms/step - loss: 0.0043 - accuracy: 0.9987 - val_loss: 0.0125 - val_accuracy: 0.9979\n",
      "Epoch 7/30\n",
      "48/48 [==============================] - 3s 70ms/step - loss: 0.0025 - accuracy: 1.0000 - val_loss: 0.0187 - val_accuracy: 0.9875\n"
     ]
    },
    {
     "data": {
      "text/plain": [
       "<keras.callbacks.History at 0x17f8054df10>"
      ]
     },
     "execution_count": 21,
     "metadata": {},
     "output_type": "execute_result"
    }
   ],
   "source": [
    "yawn_model.fit(yawn_train_batch, validation_data=yawn_valid_batch,epochs=30,steps_per_epoch=yawn_SPE ,validation_steps=yawn_VS, callbacks=[callback])"
   ]
  },
  {
   "cell_type": "code",
   "execution_count": 27,
   "id": "53623783",
   "metadata": {},
   "outputs": [],
   "source": [
    "yawn_model.save('models/cnnYawn.h5', overwrite=True)"
   ]
  },
  {
   "cell_type": "code",
   "execution_count": 10,
   "id": "f3004c4f",
   "metadata": {},
   "outputs": [],
   "source": [
    "import cv2"
   ]
  },
  {
   "cell_type": "code",
   "execution_count": 24,
   "id": "d025d1d5",
   "metadata": {},
   "outputs": [],
   "source": [
    "loaded_model = load_model('models/cnnYawn.h5')"
   ]
  },
  {
   "cell_type": "code",
   "execution_count": 26,
   "id": "ebbfb3b2",
   "metadata": {},
   "outputs": [
    {
     "name": "stdout",
     "output_type": "stream",
     "text": [
      "Epoch 1/30\n",
      "48/48 [==============================] - 4s 76ms/step - loss: 0.0050 - accuracy: 0.9980 - val_loss: 0.0015 - val_accuracy: 1.0000\n",
      "Epoch 2/30\n",
      "48/48 [==============================] - 4s 74ms/step - loss: 0.0015 - accuracy: 1.0000 - val_loss: 0.0166 - val_accuracy: 0.9979\n",
      "Epoch 3/30\n",
      "48/48 [==============================] - 4s 75ms/step - loss: 9.6904e-04 - accuracy: 1.0000 - val_loss: 0.0219 - val_accuracy: 0.9979\n",
      "Epoch 4/30\n",
      "48/48 [==============================] - 4s 76ms/step - loss: 5.0592e-04 - accuracy: 1.0000 - val_loss: 0.0218 - val_accuracy: 0.9979\n",
      "Epoch 5/30\n",
      "48/48 [==============================] - 4s 73ms/step - loss: 0.0034 - accuracy: 0.9993 - val_loss: 0.0278 - val_accuracy: 0.9917\n",
      "Epoch 6/30\n",
      "48/48 [==============================] - 4s 73ms/step - loss: 0.0034 - accuracy: 0.9993 - val_loss: 0.0046 - val_accuracy: 0.9958\n",
      "Epoch 7/30\n",
      "48/48 [==============================] - 4s 75ms/step - loss: 0.0012 - accuracy: 1.0000 - val_loss: 0.0056 - val_accuracy: 0.9979\n"
     ]
    },
    {
     "data": {
      "text/plain": [
       "<keras.callbacks.History at 0x17f811774f0>"
      ]
     },
     "execution_count": 26,
     "metadata": {},
     "output_type": "execute_result"
    }
   ],
   "source": [
    "yawn_model.fit(yawn_train_batch, validation_data=yawn_valid_batch,epochs=30,steps_per_epoch=yawn_SPE ,validation_steps=yawn_VS, callbacks=[callback])"
   ]
  },
  {
   "cell_type": "code",
   "execution_count": 13,
   "id": "618c0b95",
   "metadata": {},
   "outputs": [],
   "source": []
  },
  {
   "cell_type": "code",
   "execution_count": 29,
   "id": "46a7c0f8",
   "metadata": {},
   "outputs": [
    {
     "data": {
      "text/plain": [
       "array([[4.1551814e-12, 1.0000000e+00],\n",
       "       [1.1281472e-02, 9.8871851e-01],\n",
       "       [1.9583416e-05, 9.9998045e-01]], dtype=float32)"
      ]
     },
     "execution_count": 29,
     "metadata": {},
     "output_type": "execute_result"
    }
   ],
   "source": [
    "img = cv2.imread('img.png')\n",
    "resized = cv2.resize(img/255, (24, 24))\n",
    "loaded_model.predict(resized.reshape(-1,24, 24, 1))\n",
    "prediction = np.argmax(loaded_model.predict(resized.reshape(-1,24, 24, 1)))"
   ]
  }
 ],
 "metadata": {
  "kernelspec": {
   "display_name": "Python 3 (ipykernel)",
   "language": "python",
   "name": "python3"
  },
  "language_info": {
   "codemirror_mode": {
    "name": "ipython",
    "version": 3
   },
   "file_extension": ".py",
   "mimetype": "text/x-python",
   "name": "python",
   "nbconvert_exporter": "python",
   "pygments_lexer": "ipython3",
   "version": "3.9.7"
  }
 },
 "nbformat": 4,
 "nbformat_minor": 5
}
