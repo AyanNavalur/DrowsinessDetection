{
 "cells": [
  {
   "cell_type": "code",
   "execution_count": 1,
   "id": "bb51af90",
   "metadata": {},
   "outputs": [],
   "source": [
    "import os\n",
    "from keras.preprocessing import image\n",
    "import matplotlib.pyplot as plt \n",
    "import numpy as np\n",
    "import tensorflow as tf"
   ]
  },
  {
   "cell_type": "code",
   "execution_count": 2,
   "id": "fe7f92ce",
   "metadata": {},
   "outputs": [],
   "source": [
    "from keras.models import Sequential\n",
    "from keras.layers import Dropout,Conv2D,Flatten,Dense, MaxPooling2D, BatchNormalization\n",
    "from keras.models import load_model"
   ]
  },
  {
   "cell_type": "code",
   "execution_count": 3,
   "id": "b882f29c",
   "metadata": {},
   "outputs": [],
   "source": [
    "def generator(dir, gen=image.ImageDataGenerator(rescale=1./255), shuffle=True,batch_size=1,target_size=(24,24),class_mode='categorical' ):\n",
    "    return gen.flow_from_directory(dir,batch_size=batch_size,shuffle=shuffle,color_mode='grayscale',class_mode=class_mode,target_size=target_size)"
   ]
  },
  {
   "cell_type": "code",
   "execution_count": 4,
   "id": "b427b1dd",
   "metadata": {},
   "outputs": [
    {
     "name": "stdout",
     "output_type": "stream",
     "text": [
      "Found 1234 images belonging to 2 classes.\n",
      "Found 218 images belonging to 2 classes.\n",
      "Found 1540 images belonging to 2 classes.\n",
      "Found 511 images belonging to 2 classes.\n"
     ]
    }
   ],
   "source": [
    "BATCH_SIZE=32\n",
    "TARGET_SIZE=(24,24)\n",
    "eyes_train_batch= generator('./dataset/eyes/train',shuffle=True, batch_size=BATCH_SIZE,target_size=TARGET_SIZE)\n",
    "eyes_valid_batch= generator('dataset/eyes/valid',shuffle=True, batch_size=BATCH_SIZE,target_size=TARGET_SIZE)\n",
    "yawn_train_batch= generator('./dataset/new_yawn/train',shuffle=True, batch_size=BATCH_SIZE,target_size=TARGET_SIZE)\n",
    "yawn_valid_batch= generator('dataset/new_yawn/valid',shuffle=True, batch_size=BATCH_SIZE,target_size=TARGET_SIZE)"
   ]
  },
  {
   "cell_type": "code",
   "execution_count": 5,
   "id": "57891d54",
   "metadata": {},
   "outputs": [
    {
     "name": "stdout",
     "output_type": "stream",
     "text": [
      "38 6\n",
      "48 15\n"
     ]
    }
   ],
   "source": [
    "eyes_SPE= len(eyes_train_batch.classes)//BATCH_SIZE\n",
    "eyes_VS = len(eyes_valid_batch.classes)//BATCH_SIZE\n",
    "print(eyes_SPE,eyes_VS)\n",
    "\n",
    "yawn_SPE= len(yawn_train_batch.classes)//BATCH_SIZE\n",
    "yawn_VS = len(yawn_valid_batch.classes)//BATCH_SIZE\n",
    "print(yawn_SPE,yawn_VS)"
   ]
  },
  {
   "cell_type": "code",
   "execution_count": 6,
   "id": "2c317693",
   "metadata": {},
   "outputs": [],
   "source": [
    "eyes_model = Sequential([\n",
    "    Conv2D(32, kernel_size=(3, 3), activation='relu', input_shape=(24,24,1)),\n",
    "    MaxPooling2D(pool_size=(1,1)),\n",
    "    Conv2D(32,(3,3),activation='relu'),\n",
    "    MaxPooling2D(pool_size=(1,1)),\n",
    "#32 convolution filters used each of size 3x3\n",
    "#again\n",
    "    Conv2D(64, (3, 3), activation='relu'),\n",
    "    MaxPooling2D(pool_size=(1,1)),\n",
    "#64 convolution filters used each of size 3x3\n",
    "#choose the best features via pooling\n",
    "    \n",
    "#randomly turn neurons on and off to improve convergence\n",
    "    Dropout(0.25),\n",
    "#flatten since too many dimensions, we only want a classification output\n",
    "    Flatten(),\n",
    "#fully connected to get all relevant data\n",
    "    Dense(128, activation='relu'),\n",
    "#one more dropout for convergence' sake :) \n",
    "    Dropout(0.5),\n",
    "#output a softmax to squash the matrix into output probabilities\n",
    "    Dense(2, activation='softmax')\n",
    "])"
   ]
  },
  {
   "cell_type": "code",
   "execution_count": 7,
   "id": "a271142c",
   "metadata": {},
   "outputs": [],
   "source": [
    "eyes_model.compile(optimizer='adam',loss='categorical_crossentropy',metrics=['accuracy'])"
   ]
  },
  {
   "cell_type": "code",
   "execution_count": 8,
   "id": "bd2a9d08",
   "metadata": {},
   "outputs": [],
   "source": [
    "callback = tf.keras.callbacks.EarlyStopping(monitor='loss', patience=3)"
   ]
  },
  {
   "cell_type": "code",
   "execution_count": 9,
   "id": "d6c2db93",
   "metadata": {},
   "outputs": [
    {
     "name": "stdout",
     "output_type": "stream",
     "text": [
      "Epoch 1/30\n",
      "38/38 [==============================] - 5s 130ms/step - loss: 0.3862 - accuracy: 0.8386 - val_loss: 0.1899 - val_accuracy: 0.9271\n",
      "Epoch 2/30\n",
      "38/38 [==============================] - 4s 104ms/step - loss: 0.1689 - accuracy: 0.9368 - val_loss: 0.0959 - val_accuracy: 0.9583\n",
      "Epoch 3/30\n",
      "38/38 [==============================] - 4s 107ms/step - loss: 0.1247 - accuracy: 0.9539 - val_loss: 0.1514 - val_accuracy: 0.9427\n",
      "Epoch 4/30\n",
      "38/38 [==============================] - 4s 107ms/step - loss: 0.1059 - accuracy: 0.9526 - val_loss: 0.1359 - val_accuracy: 0.9375\n",
      "Epoch 5/30\n",
      "38/38 [==============================] - 4s 104ms/step - loss: 0.0840 - accuracy: 0.9651 - val_loss: 0.0960 - val_accuracy: 0.9531\n",
      "Epoch 6/30\n",
      "38/38 [==============================] - 4s 110ms/step - loss: 0.0702 - accuracy: 0.9750 - val_loss: 0.1100 - val_accuracy: 0.9531\n",
      "Epoch 7/30\n",
      "38/38 [==============================] - 4s 102ms/step - loss: 0.0519 - accuracy: 0.9817 - val_loss: 0.1222 - val_accuracy: 0.9531\n",
      "Epoch 8/30\n",
      "38/38 [==============================] - 4s 102ms/step - loss: 0.0581 - accuracy: 0.9759 - val_loss: 0.0599 - val_accuracy: 0.9740\n",
      "Epoch 9/30\n",
      "38/38 [==============================] - 4s 100ms/step - loss: 0.0439 - accuracy: 0.9859 - val_loss: 0.1459 - val_accuracy: 0.9531\n",
      "Epoch 10/30\n",
      "38/38 [==============================] - 4s 102ms/step - loss: 0.0388 - accuracy: 0.9834 - val_loss: 0.0987 - val_accuracy: 0.9583\n",
      "Epoch 11/30\n",
      "38/38 [==============================] - 4s 103ms/step - loss: 0.0266 - accuracy: 0.9908 - val_loss: 0.0883 - val_accuracy: 0.9740\n",
      "Epoch 12/30\n",
      "38/38 [==============================] - 4s 103ms/step - loss: 0.0418 - accuracy: 0.9884 - val_loss: 0.1034 - val_accuracy: 0.9323\n",
      "Epoch 13/30\n",
      "38/38 [==============================] - 4s 103ms/step - loss: 0.0229 - accuracy: 0.9967 - val_loss: 0.0982 - val_accuracy: 0.9740\n",
      "Epoch 14/30\n",
      "38/38 [==============================] - 4s 102ms/step - loss: 0.0235 - accuracy: 0.9917 - val_loss: 0.0560 - val_accuracy: 0.9844\n",
      "Epoch 15/30\n",
      "38/38 [==============================] - 4s 100ms/step - loss: 0.0228 - accuracy: 0.9908 - val_loss: 0.0684 - val_accuracy: 0.9635\n",
      "Epoch 16/30\n",
      "38/38 [==============================] - 4s 110ms/step - loss: 0.0157 - accuracy: 0.9958 - val_loss: 0.0854 - val_accuracy: 0.9531\n",
      "Epoch 17/30\n",
      "38/38 [==============================] - 4s 104ms/step - loss: 0.0153 - accuracy: 0.9967 - val_loss: 0.0895 - val_accuracy: 0.9688\n",
      "Epoch 18/30\n",
      "38/38 [==============================] - 4s 104ms/step - loss: 0.0088 - accuracy: 0.9992 - val_loss: 0.1077 - val_accuracy: 0.9635\n",
      "Epoch 19/30\n",
      "38/38 [==============================] - 4s 104ms/step - loss: 0.0096 - accuracy: 0.9967 - val_loss: 0.0656 - val_accuracy: 0.9792\n",
      "Epoch 20/30\n",
      "38/38 [==============================] - 4s 103ms/step - loss: 0.0096 - accuracy: 0.9967 - val_loss: 0.1151 - val_accuracy: 0.9531\n",
      "Epoch 21/30\n",
      "38/38 [==============================] - 4s 104ms/step - loss: 0.0127 - accuracy: 0.9950 - val_loss: 0.0804 - val_accuracy: 0.9688\n"
     ]
    },
    {
     "data": {
      "text/plain": [
       "<keras.callbacks.History at 0x2444ff8d970>"
      ]
     },
     "execution_count": 9,
     "metadata": {},
     "output_type": "execute_result"
    }
   ],
   "source": [
    "eyes_model.fit(eyes_train_batch, validation_data=eyes_valid_batch,epochs=30,steps_per_epoch=eyes_SPE ,validation_steps=eyes_VS, callbacks=[callback])"
   ]
  },
  {
   "cell_type": "code",
   "execution_count": 10,
   "id": "3c4c05d9",
   "metadata": {},
   "outputs": [],
   "source": [
    "eyes_model.save('models/cnnEyes.h5', overwrite=True)"
   ]
  },
  {
   "cell_type": "code",
   "execution_count": 11,
   "id": "4fb11f52",
   "metadata": {},
   "outputs": [
    {
     "ename": "NameError",
     "evalue": "name 'cv2' is not defined",
     "output_type": "error",
     "traceback": [
      "\u001b[1;31m---------------------------------------------------------------------------\u001b[0m",
      "\u001b[1;31mNameError\u001b[0m                                 Traceback (most recent call last)",
      "\u001b[1;32mC:\\Users\\R0RSCH~1\\AppData\\Local\\Temp/ipykernel_10384/580120386.py\u001b[0m in \u001b[0;36m<module>\u001b[1;34m\u001b[0m\n\u001b[1;32m----> 1\u001b[1;33m \u001b[0mimg\u001b[0m \u001b[1;33m=\u001b[0m \u001b[0mcv2\u001b[0m\u001b[1;33m.\u001b[0m\u001b[0mimread\u001b[0m\u001b[1;33m(\u001b[0m\u001b[1;34m'./dataset/eyes/valid/open/_359.jpg'\u001b[0m\u001b[1;33m)\u001b[0m\u001b[1;33m\u001b[0m\u001b[1;33m\u001b[0m\u001b[0m\n\u001b[0m\u001b[0;32m      2\u001b[0m \u001b[0mresized\u001b[0m \u001b[1;33m=\u001b[0m \u001b[0mcv2\u001b[0m\u001b[1;33m.\u001b[0m\u001b[0mresize\u001b[0m\u001b[1;33m(\u001b[0m\u001b[0mimg\u001b[0m\u001b[1;33m/\u001b[0m\u001b[1;36m255\u001b[0m\u001b[1;33m,\u001b[0m \u001b[1;33m(\u001b[0m\u001b[1;36m24\u001b[0m\u001b[1;33m,\u001b[0m \u001b[1;36m24\u001b[0m\u001b[1;33m)\u001b[0m\u001b[1;33m)\u001b[0m\u001b[1;33m\u001b[0m\u001b[1;33m\u001b[0m\u001b[0m\n",
      "\u001b[1;31mNameError\u001b[0m: name 'cv2' is not defined"
     ]
    }
   ],
   "source": [
    "img = cv2.imread('./dataset/eyes/valid/open/_359.jpg')\n",
    "resized = cv2.resize(img/255, (24, 24))"
   ]
  },
  {
   "cell_type": "code",
   "execution_count": null,
   "id": "9b8a0b0a",
   "metadata": {},
   "outputs": [],
   "source": [
    "\n",
    "rpred = np.argmax(eyes_model.predict(resized.reshape(-1,24, 24, 1)), axis=-1)"
   ]
  },
  {
   "cell_type": "code",
   "execution_count": 16,
   "id": "5fba14ef",
   "metadata": {},
   "outputs": [
    {
     "data": {
      "text/plain": [
       "array([0, 1, 1], dtype=int64)"
      ]
     },
     "execution_count": 16,
     "metadata": {},
     "output_type": "execute_result"
    }
   ],
   "source": [
    "rpred"
   ]
  },
  {
   "cell_type": "code",
   "execution_count": 12,
   "id": "19a6b65e",
   "metadata": {},
   "outputs": [],
   "source": [
    "yawn_model = Sequential([\n",
    "    Conv2D(32, kernel_size=(3, 3), activation='relu', input_shape=(24,24,1)),\n",
    "    MaxPooling2D(pool_size=(1,1)),\n",
    "    Conv2D(32,(3,3),activation='relu'),\n",
    "    MaxPooling2D(pool_size=(1,1)),\n",
    "#32 convolution filters used each of size 3x3\n",
    "#again\n",
    "    Conv2D(64, (3, 3), activation='relu'),\n",
    "    MaxPooling2D(pool_size=(1,1)),\n",
    "#64 convolution filters used each of size 3x3\n",
    "#choose the best features via pooling\n",
    "    \n",
    "#randomly turn neurons on and off to improve convergence\n",
    "    Dropout(0.25),\n",
    "#flatten since too many dimensions, we only want a classification output\n",
    "    Flatten(),\n",
    "#fully connected to get all relevant data\n",
    "    Dense(128, activation='relu'),\n",
    "#one more dropout for convergence' sake :) \n",
    "    Dropout(0.5),\n",
    "#output a softmax to squash the matrix into output probabilities\n",
    "    Dense(2, activation='softmax')\n",
    "])"
   ]
  },
  {
   "cell_type": "code",
   "execution_count": 13,
   "id": "d56e1c01",
   "metadata": {},
   "outputs": [],
   "source": [
    "yawn_model.compile(optimizer='adam',loss='categorical_crossentropy',metrics=['accuracy'])"
   ]
  },
  {
   "cell_type": "code",
   "execution_count": 14,
   "id": "cf71dac0",
   "metadata": {},
   "outputs": [
    {
     "name": "stdout",
     "output_type": "stream",
     "text": [
      "Epoch 1/30\n",
      "48/48 [==============================] - 5s 105ms/step - loss: 0.2279 - accuracy: 0.8926 - val_loss: 0.0435 - val_accuracy: 0.9812\n",
      "Epoch 2/30\n",
      "48/48 [==============================] - 3s 72ms/step - loss: 0.0030 - accuracy: 1.0000 - val_loss: 0.0240 - val_accuracy: 0.9937\n",
      "Epoch 3/30\n",
      "48/48 [==============================] - 3s 71ms/step - loss: 0.0011 - accuracy: 1.0000 - val_loss: 0.0312 - val_accuracy: 0.9937\n",
      "Epoch 4/30\n",
      "48/48 [==============================] - 4s 73ms/step - loss: 0.0020 - accuracy: 1.0000 - val_loss: 0.0205 - val_accuracy: 0.9875\n",
      "Epoch 5/30\n",
      "48/48 [==============================] - 3s 68ms/step - loss: 0.0020 - accuracy: 0.9993 - val_loss: 0.0126 - val_accuracy: 0.9937\n",
      "Epoch 6/30\n",
      "48/48 [==============================] - 4s 75ms/step - loss: 4.3857e-04 - accuracy: 1.0000 - val_loss: 0.0210 - val_accuracy: 0.9937\n",
      "Epoch 7/30\n",
      "48/48 [==============================] - 3s 65ms/step - loss: 8.3621e-05 - accuracy: 1.0000 - val_loss: 0.0213 - val_accuracy: 0.9937\n",
      "Epoch 8/30\n",
      "48/48 [==============================] - 3s 70ms/step - loss: 1.2946e-04 - accuracy: 1.0000 - val_loss: 0.0127 - val_accuracy: 0.9958\n",
      "Epoch 9/30\n",
      "48/48 [==============================] - 3s 68ms/step - loss: 1.0288e-04 - accuracy: 1.0000 - val_loss: 0.0179 - val_accuracy: 0.9958\n",
      "Epoch 10/30\n",
      "48/48 [==============================] - 3s 72ms/step - loss: 6.7628e-05 - accuracy: 1.0000 - val_loss: 0.0226 - val_accuracy: 0.9937\n",
      "Epoch 11/30\n",
      "48/48 [==============================] - 3s 70ms/step - loss: 1.2590e-04 - accuracy: 1.0000 - val_loss: 0.0196 - val_accuracy: 0.9958\n",
      "Epoch 12/30\n",
      "48/48 [==============================] - 3s 71ms/step - loss: 2.8250e-05 - accuracy: 1.0000 - val_loss: 0.0280 - val_accuracy: 0.9937\n",
      "Epoch 13/30\n",
      "48/48 [==============================] - 3s 69ms/step - loss: 3.8621e-05 - accuracy: 1.0000 - val_loss: 0.0253 - val_accuracy: 0.9937\n",
      "Epoch 14/30\n",
      "48/48 [==============================] - 3s 69ms/step - loss: 2.3654e-05 - accuracy: 1.0000 - val_loss: 0.0223 - val_accuracy: 0.9937\n",
      "Epoch 15/30\n",
      "48/48 [==============================] - 3s 69ms/step - loss: 4.4636e-06 - accuracy: 1.0000 - val_loss: 0.0231 - val_accuracy: 0.9937\n",
      "Epoch 16/30\n",
      "48/48 [==============================] - 3s 71ms/step - loss: 1.6307e-04 - accuracy: 1.0000 - val_loss: 0.0175 - val_accuracy: 0.9937\n",
      "Epoch 17/30\n",
      "48/48 [==============================] - 3s 65ms/step - loss: 3.8771e-05 - accuracy: 1.0000 - val_loss: 0.0231 - val_accuracy: 0.9937\n",
      "Epoch 18/30\n",
      "48/48 [==============================] - 3s 69ms/step - loss: 6.4079e-06 - accuracy: 1.0000 - val_loss: 0.0245 - val_accuracy: 0.9937\n"
     ]
    },
    {
     "data": {
      "text/plain": [
       "<keras.callbacks.History at 0x244574c0cd0>"
      ]
     },
     "execution_count": 14,
     "metadata": {},
     "output_type": "execute_result"
    }
   ],
   "source": [
    "yawn_model.fit(yawn_train_batch, validation_data=yawn_valid_batch,epochs=30,steps_per_epoch=yawn_SPE ,validation_steps=yawn_VS, callbacks=[callback])"
   ]
  },
  {
   "cell_type": "code",
   "execution_count": 15,
   "id": "53623783",
   "metadata": {},
   "outputs": [],
   "source": [
    "yawn_model.save('models/cnnYawn.h5', overwrite=True)"
   ]
  },
  {
   "cell_type": "code",
   "execution_count": 10,
   "id": "f3004c4f",
   "metadata": {},
   "outputs": [],
   "source": [
    "import cv2"
   ]
  },
  {
   "cell_type": "code",
   "execution_count": 24,
   "id": "d025d1d5",
   "metadata": {},
   "outputs": [],
   "source": [
    "loaded_model = load_model('models/cnnYawn.h5')"
   ]
  },
  {
   "cell_type": "code",
   "execution_count": 26,
   "id": "ebbfb3b2",
   "metadata": {},
   "outputs": [
    {
     "name": "stdout",
     "output_type": "stream",
     "text": [
      "Epoch 1/30\n",
      "48/48 [==============================] - 4s 76ms/step - loss: 0.0050 - accuracy: 0.9980 - val_loss: 0.0015 - val_accuracy: 1.0000\n",
      "Epoch 2/30\n",
      "48/48 [==============================] - 4s 74ms/step - loss: 0.0015 - accuracy: 1.0000 - val_loss: 0.0166 - val_accuracy: 0.9979\n",
      "Epoch 3/30\n",
      "48/48 [==============================] - 4s 75ms/step - loss: 9.6904e-04 - accuracy: 1.0000 - val_loss: 0.0219 - val_accuracy: 0.9979\n",
      "Epoch 4/30\n",
      "48/48 [==============================] - 4s 76ms/step - loss: 5.0592e-04 - accuracy: 1.0000 - val_loss: 0.0218 - val_accuracy: 0.9979\n",
      "Epoch 5/30\n",
      "48/48 [==============================] - 4s 73ms/step - loss: 0.0034 - accuracy: 0.9993 - val_loss: 0.0278 - val_accuracy: 0.9917\n",
      "Epoch 6/30\n",
      "48/48 [==============================] - 4s 73ms/step - loss: 0.0034 - accuracy: 0.9993 - val_loss: 0.0046 - val_accuracy: 0.9958\n",
      "Epoch 7/30\n",
      "48/48 [==============================] - 4s 75ms/step - loss: 0.0012 - accuracy: 1.0000 - val_loss: 0.0056 - val_accuracy: 0.9979\n"
     ]
    },
    {
     "data": {
      "text/plain": [
       "<keras.callbacks.History at 0x17f811774f0>"
      ]
     },
     "execution_count": 26,
     "metadata": {},
     "output_type": "execute_result"
    }
   ],
   "source": [
    "yawn_model.fit(yawn_train_batch, validation_data=yawn_valid_batch,epochs=30,steps_per_epoch=yawn_SPE ,validation_steps=yawn_VS, callbacks=[callback])"
   ]
  },
  {
   "cell_type": "code",
   "execution_count": 13,
   "id": "618c0b95",
   "metadata": {},
   "outputs": [],
   "source": []
  },
  {
   "cell_type": "code",
   "execution_count": 29,
   "id": "46a7c0f8",
   "metadata": {},
   "outputs": [
    {
     "data": {
      "text/plain": [
       "array([[4.1551814e-12, 1.0000000e+00],\n",
       "       [1.1281472e-02, 9.8871851e-01],\n",
       "       [1.9583416e-05, 9.9998045e-01]], dtype=float32)"
      ]
     },
     "execution_count": 29,
     "metadata": {},
     "output_type": "execute_result"
    }
   ],
   "source": [
    "img = cv2.imread('img.png')\n",
    "resized = cv2.resize(img/255, (24, 24))\n",
    "loaded_model.predict(resized.reshape(-1,24, 24, 1))\n",
    "prediction = np.argmax(loaded_model.predict(resized.reshape(-1,24, 24, 1)))"
   ]
  }
 ],
 "metadata": {
  "kernelspec": {
   "display_name": "Python 3 (ipykernel)",
   "language": "python",
   "name": "python3"
  },
  "language_info": {
   "codemirror_mode": {
    "name": "ipython",
    "version": 3
   },
   "file_extension": ".py",
   "mimetype": "text/x-python",
   "name": "python",
   "nbconvert_exporter": "python",
   "pygments_lexer": "ipython3",
   "version": "3.9.7"
  }
 },
 "nbformat": 4,
 "nbformat_minor": 5
}
